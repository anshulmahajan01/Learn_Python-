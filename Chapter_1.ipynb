{
 "cells": [
  {
   "cell_type": "markdown",
   "metadata": {},
   "source": [
    "# Print Function"
   ]
  },
  {
   "cell_type": "code",
   "execution_count": 4,
   "metadata": {},
   "outputs": [
    {
     "name": "stdout",
     "output_type": "stream",
     "text": [
      "Anshul 'Anshul' Mahajan\n",
      "Word \"Work\" Work\n"
     ]
    }
   ],
   "source": [
    "print(\"Anshul 'Anshul' Mahajan\")\n",
    "print('Word \"Work\" Work')"
   ]
  },
  {
   "cell_type": "code",
   "execution_count": 3,
   "metadata": {},
   "outputs": [
    {
     "ename": "SyntaxError",
     "evalue": "invalid syntax (<ipython-input-3-7fcb972f30c2>, line 1)",
     "output_type": "error",
     "traceback": [
      "\u001b[1;36m  File \u001b[1;32m\"<ipython-input-3-7fcb972f30c2>\"\u001b[1;36m, line \u001b[1;32m1\u001b[0m\n\u001b[1;33m    print('Anshul 'Anshul' Mahajan')\u001b[0m\n\u001b[1;37m                        ^\u001b[0m\n\u001b[1;31mSyntaxError\u001b[0m\u001b[1;31m:\u001b[0m invalid syntax\n"
     ]
    }
   ],
   "source": [
    "print('Anshul 'Anshul' Mahajan')"
   ]
  },
  {
   "cell_type": "code",
   "execution_count": 6,
   "metadata": {},
   "outputs": [
    {
     "name": "stdout",
     "output_type": "stream",
     "text": [
      "I 'm Anshul\n"
     ]
    }
   ],
   "source": [
    "print(\"I 'm Anshul\")"
   ]
  },
  {
   "cell_type": "markdown",
   "metadata": {},
   "source": [
    "# Escape Sequences"
   ]
  },
  {
   "cell_type": "code",
   "execution_count": 9,
   "metadata": {},
   "outputs": [
    {
     "name": "stdout",
     "output_type": "stream",
     "text": [
      "Hello \"World\" World\n"
     ]
    }
   ],
   "source": [
    "print(\"Hello \\\"World\\\" World\")"
   ]
  },
  {
   "cell_type": "code",
   "execution_count": 10,
   "metadata": {},
   "outputs": [
    {
     "name": "stdout",
     "output_type": "stream",
     "text": [
      "I' m Anshul\n"
     ]
    }
   ],
   "source": [
    "print('I\\' m Anshul' )"
   ]
  },
  {
   "cell_type": "code",
   "execution_count": 13,
   "metadata": {},
   "outputs": [
    {
     "name": "stdout",
     "output_type": "stream",
     "text": [
      "line A\n",
      "line B \n",
      " Line C\n"
     ]
    }
   ],
   "source": [
    "print(\"line A\\nline B \\n Line C\" )"
   ]
  },
  {
   "cell_type": "code",
   "execution_count": 14,
   "metadata": {},
   "outputs": [
    {
     "name": "stdout",
     "output_type": "stream",
     "text": [
      "name\tAnshul\n"
     ]
    }
   ],
   "source": [
    "print(\"name\\tAnshul\")"
   ]
  },
  {
   "cell_type": "code",
   "execution_count": 2,
   "metadata": {},
   "outputs": [
    {
     "name": "stdout",
     "output_type": "stream",
     "text": [
      "THis is backslash\\\n",
      "THis is double backslash\\\\\n"
     ]
    }
   ],
   "source": [
    "print(\"THis is backslash\\\\\")\n",
    "print(\"THis is double backslash\\\\\\\\\") #\\\\ this is for double backslash "
   ]
  },
  {
   "cell_type": "markdown",
   "metadata": {},
   "source": [
    "# Comments "
   ]
  },
  {
   "cell_type": "code",
   "execution_count": null,
   "metadata": {},
   "outputs": [],
   "source": [
    "#this is the comment\n",
    "# print('Anshul') , shortcut is ctr + /\n"
   ]
  },
  {
   "cell_type": "markdown",
   "metadata": {},
   "source": [
    "# Escape Sequences as normal text"
   ]
  },
  {
   "cell_type": "code",
   "execution_count": 7,
   "metadata": {},
   "outputs": [
    {
     "name": "stdout",
     "output_type": "stream",
     "text": [
      "Line A \\n Line B\n",
      "Line A \\t Line B\n",
      "This is 4 backslash \\\\\\\\\n",
      "\\' \\\" \n"
     ]
    }
   ],
   "source": [
    "print(\"Line A \\\\n Line B\")\n",
    "print(\"Line A \\\\t Line B\")\n",
    "print(\"This is 4 backslash \\\\\\\\\\\\\\\\\")\n",
    "print(\"\\\\\\' \\\\\\\" \")"
   ]
  },
  {
   "cell_type": "markdown",
   "metadata": {},
   "source": [
    "# Excercise 1 "
   ]
  },
  {
   "cell_type": "code",
   "execution_count": 8,
   "metadata": {},
   "outputs": [
    {
     "name": "stdout",
     "output_type": "stream",
     "text": [
      "This is \\\\ double backslash\n"
     ]
    }
   ],
   "source": [
    "print(\"This is \\\\\\\\ double backslash\")"
   ]
  },
  {
   "cell_type": "code",
   "execution_count": 9,
   "metadata": {},
   "outputs": [
    {
     "name": "stdout",
     "output_type": "stream",
     "text": [
      "These are /\\/\\/\\/\\ mountains\n"
     ]
    }
   ],
   "source": [
    "print(\"These are /\\/\\/\\/\\ mountains\")"
   ]
  },
  {
   "cell_type": "code",
   "execution_count": 10,
   "metadata": {},
   "outputs": [
    {
     "name": "stdout",
     "output_type": "stream",
     "text": [
      "He is \t awesome\n"
     ]
    }
   ],
   "source": [
    "print(\"He is \\t awesome\")"
   ]
  },
  {
   "cell_type": "code",
   "execution_count": 12,
   "metadata": {},
   "outputs": [
    {
     "name": "stdout",
     "output_type": "stream",
     "text": [
      "\\\"  \\n \\t \\'\n"
     ]
    }
   ],
   "source": [
    "print(\"\\\\\\\"  \\\\n \\\\t \\\\\\'\")"
   ]
  },
  {
   "cell_type": "code",
   "execution_count": 2,
   "metadata": {},
   "outputs": [
    {
     "name": "stdout",
     "output_type": "stream",
     "text": [
      "Line A \\n Line B\n"
     ]
    }
   ],
   "source": [
    "#Raw Strings\n",
    "\n",
    "print(r\"Line A \\n Line B\")"
   ]
  },
  {
   "cell_type": "code",
   "execution_count": 5,
   "metadata": {},
   "outputs": [
    {
     "name": "stdout",
     "output_type": "stream",
     "text": [
      "😂\n",
      "😄\n",
      "😘\n"
     ]
    }
   ],
   "source": [
    "#print Emoji \n",
    "\n",
    "print(\"\\U0001F602\")\n",
    "print(\"\\U0001F604\")\n",
    "print(\"\\U0001F618\")"
   ]
  },
  {
   "cell_type": "markdown",
   "metadata": {},
   "source": [
    "# Python as a Calculator "
   ]
  },
  {
   "cell_type": "code",
   "execution_count": 14,
   "metadata": {},
   "outputs": [
    {
     "name": "stdout",
     "output_type": "stream",
     "text": [
      "2.0\n",
      "2\n",
      "3.0\n",
      "1.4142\n",
      "20.0\n",
      "1\n",
      "2.5\n",
      "512\n"
     ]
    }
   ],
   "source": [
    "print(4/2) #floating point division\n",
    "print(4//2) #Integer point division\n",
    "print(9**0.5)\n",
    "print(round(2**0.5,4))\n",
    "print(2**3/2*6-4*(3-4/2))\n",
    "print(3%2)\n",
    "print((2+3) / 2)\n",
    "print(2 ** 3 ** 2)"
   ]
  },
  {
   "cell_type": "markdown",
   "metadata": {},
   "source": [
    "# Variables "
   ]
  },
  {
   "cell_type": "code",
   "execution_count": 16,
   "metadata": {},
   "outputs": [
    {
     "name": "stdout",
     "output_type": "stream",
     "text": [
      "4\n",
      "1\n"
     ]
    }
   ],
   "source": [
    "number1 = 4 \n",
    "print(number1)\n",
    "\n",
    "number1 = 1 \n",
    "print(number1)"
   ]
  },
  {
   "cell_type": "code",
   "execution_count": null,
   "metadata": {},
   "outputs": [],
   "source": []
  }
 ],
 "metadata": {
  "kernelspec": {
   "display_name": "Python 3",
   "language": "python",
   "name": "python3"
  },
  "language_info": {
   "codemirror_mode": {
    "name": "ipython",
    "version": 3
   },
   "file_extension": ".py",
   "mimetype": "text/x-python",
   "name": "python",
   "nbconvert_exporter": "python",
   "pygments_lexer": "ipython3",
   "version": "3.6.7"
  }
 },
 "nbformat": 4,
 "nbformat_minor": 2
}
